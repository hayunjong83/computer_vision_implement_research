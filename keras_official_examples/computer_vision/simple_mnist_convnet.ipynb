{
  "nbformat": 4,
  "nbformat_minor": 0,
  "metadata": {
    "colab": {
      "name": "simple_mnist_convnet.ipynb",
      "provenance": [],
      "collapsed_sections": [],
      "authorship_tag": "ABX9TyNjXFGy2tYMUt8FaEblB4OY",
      "include_colab_link": true
    },
    "kernelspec": {
      "name": "python3",
      "display_name": "Python 3"
    },
    "accelerator": "GPU"
  },
  "cells": [
    {
      "cell_type": "markdown",
      "metadata": {
        "id": "view-in-github",
        "colab_type": "text"
      },
      "source": [
        "<a href=\"https://colab.research.google.com/github/hayunjong83/computer_vision_implement_research/blob/master/keras_official_examples/simple_mnist_convnet.ipynb\" target=\"_parent\"><img src=\"https://colab.research.google.com/assets/colab-badge.svg\" alt=\"Open In Colab\"/></a>"
      ]
    },
    {
      "cell_type": "markdown",
      "metadata": {
        "id": "rsLxGvhJhwIy",
        "colab_type": "text"
      },
      "source": [
        "# Simple MNIST convnet\n",
        "---\n",
        "\n",
        "원본 글 : [Simple MNIST convnet](https://keras.io/examples/vision/mnist_convnet/)\n",
        "\n",
        "이미 여러 서적 및 블로그를 통해 소개된 MNIST를 분류하는\n",
        " 간단한 컨볼루션 신경망의 예이다."
      ]
    },
    {
      "cell_type": "code",
      "metadata": {
        "id": "qQyvOfvLg9QI",
        "colab_type": "code",
        "colab": {}
      },
      "source": [
        "import numpy as np\n",
        "from tensorflow import keras"
      ],
      "execution_count": 1,
      "outputs": []
    },
    {
      "cell_type": "markdown",
      "metadata": {
        "id": "hT17E1kti3LY",
        "colab_type": "text"
      },
      "source": [
        "## 데이터 준비\n",
        "---\n",
        "mnist 데이터셋을 로드하고 **정규화**를 수행해 픽셀값의 범위가 [0, 1] 이 되도록 한다.\n",
        "\n",
        "**keras.utils.to_categorical()**함수을 활용하면, 레이블 값을 one-hot vector로 바꿔준다(**one-hot encoding**)"
      ]
    },
    {
      "cell_type": "code",
      "metadata": {
        "id": "MkAGEzgFixLC",
        "colab_type": "code",
        "colab": {
          "base_uri": "https://localhost:8080/",
          "height": 107
        },
        "outputId": "50157a60-1a3b-413a-a251-b065010e0ef3"
      },
      "source": [
        "# Model / data parameters \n",
        "num_classes = 10\n",
        "input_shape = (28, 28, 1)\n",
        "\n",
        "# the data, split between train and test sets\n",
        "(x_train, y_train), (x_test, y_test) = keras.datasets.mnist.load_data()\n",
        "\n",
        "# Scale images to the [0, 1] range\n",
        "x_train = x_train.astype(\"float32\") / 255\n",
        "x_test = x_test.astype(\"float32\") / 255\n",
        "\n",
        "# Make sure images have shape (28, 28, 1)\n",
        "x_train = np.expand_dims(x_train, -1)\n",
        "x_test = np.expand_dims(x_test, -1)\n",
        "print(\"x_train shape: \", x_train.shape)\n",
        "print(x_train.shape[0], \"train samples\")\n",
        "print(x_test.shape[0], \"test samples\")\n",
        "\n",
        "# convert class vectors to binary class matrics\n",
        "y_train = keras.utils.to_categorical(y_train, num_classes)\n",
        "y_test = keras.utils.to_categorical(y_test, num_classes)\n"
      ],
      "execution_count": 2,
      "outputs": [
        {
          "output_type": "stream",
          "text": [
            "Downloading data from https://storage.googleapis.com/tensorflow/tf-keras-datasets/mnist.npz\n",
            "11493376/11490434 [==============================] - 0s 0us/step\n",
            "x_train shape:  (60000, 28, 28, 1)\n",
            "60000 train samples\n",
            "10000 test samples\n"
          ],
          "name": "stdout"
        }
      ]
    },
    {
      "cell_type": "markdown",
      "metadata": {
        "id": "lEsI4ml2l4Y7",
        "colab_type": "text"
      },
      "source": [
        "input_shape를 단순히 이미지 크기가 아닌 한 개의 채널 수까지 포함한 (28, 28, 1)로 설정했으므로, **numpy.expand_dims()**를 사용해 마지막 차원을 추가해줬다."
      ]
    },
    {
      "cell_type": "markdown",
      "metadata": {
        "id": "3O1ge7NemVvd",
        "colab_type": "text"
      },
      "source": [
        "## 모델 구성\n",
        "---\n",
        "각각 2개의 합성곱(convolution) 층과 최대 풀링(maxpooling) 층을 가지고, 마지막 클래수의 개수만큼 뉴런을 가진 완전연결층을 출력층으로 구성하였다.\n",
        "- **[keras.layers.Conv2D()](https://keras.io/api/layers/convolution_layers/convolution2d/)**: convolution layer\n",
        "- **[keras.layers.MaxPooling2D()](https://keras.io/api/layers/pooling_layers/max_pooling2d/)** : maxpooling layer\n",
        "- **[keras.layers.Dense()](https://keras.io/api/layers/core_layers/dense/)** : completely connected layer\n",
        "\n",
        "CNN에서는 보통 40% ~ 50%의 Dropout 비율을 가지는데, 여기서는 간단한 구조이므로 Dropout(0.5)를 적용하였다."
      ]
    },
    {
      "cell_type": "code",
      "metadata": {
        "id": "qiXLT4hBlfYp",
        "colab_type": "code",
        "colab": {
          "base_uri": "https://localhost:8080/",
          "height": 413
        },
        "outputId": "c72abcb6-0357-4273-ff30-866b5b914e46"
      },
      "source": [
        "model = keras.Sequential(\n",
        "    [\n",
        "     keras.Input(shape = input_shape),\n",
        "     keras.layers.Conv2D(32, kernel_size=(3, 3), activation=\"relu\"),\n",
        "     keras.layers.MaxPooling2D(pool_size=(2,2)),\n",
        "     keras.layers.Conv2D(64, kernel_size=(3,3), activation=\"relu\"),\n",
        "     keras.layers.MaxPooling2D(pool_size=(2,2)),\n",
        "     keras.layers.Flatten(),\n",
        "     keras.layers.Dropout(0.5),\n",
        "     keras.layers.Dense(num_classes, activation=\"softmax\"),     \n",
        "    ]\n",
        ")\n",
        "\n",
        "model.summary()"
      ],
      "execution_count": 3,
      "outputs": [
        {
          "output_type": "stream",
          "text": [
            "Model: \"sequential\"\n",
            "_________________________________________________________________\n",
            "Layer (type)                 Output Shape              Param #   \n",
            "=================================================================\n",
            "conv2d (Conv2D)              (None, 26, 26, 32)        320       \n",
            "_________________________________________________________________\n",
            "max_pooling2d (MaxPooling2D) (None, 13, 13, 32)        0         \n",
            "_________________________________________________________________\n",
            "conv2d_1 (Conv2D)            (None, 11, 11, 64)        18496     \n",
            "_________________________________________________________________\n",
            "max_pooling2d_1 (MaxPooling2 (None, 5, 5, 64)          0         \n",
            "_________________________________________________________________\n",
            "flatten (Flatten)            (None, 1600)              0         \n",
            "_________________________________________________________________\n",
            "dropout (Dropout)            (None, 1600)              0         \n",
            "_________________________________________________________________\n",
            "dense (Dense)                (None, 10)                16010     \n",
            "=================================================================\n",
            "Total params: 34,826\n",
            "Trainable params: 34,826\n",
            "Non-trainable params: 0\n",
            "_________________________________________________________________\n"
          ],
          "name": "stdout"
        }
      ]
    },
    {
      "cell_type": "markdown",
      "metadata": {
        "id": "nkZhG52votWp",
        "colab_type": "text"
      },
      "source": [
        "## 모델 훈련\n",
        "---\n",
        "배치 크기는 128개로 하고, 15번의 에포크 동안 훈련을 진행한다.\n",
        "\n",
        "참고로 데이터의 레이블이 원-핫 인코딩 되지 않는 경우라면, 손실함수로 \"sparse_categorical_crossentropy\"를 사용하면 된다. "
      ]
    },
    {
      "cell_type": "code",
      "metadata": {
        "id": "UAFDZHTwo6PR",
        "colab_type": "code",
        "colab": {}
      },
      "source": [
        "batch_size = 128\n",
        "epochs = 15\n",
        "\n",
        "model.compile(loss=\"categorical_crossentropy\", optimizer=\"adam\", metrics=[\"accuracy\"])"
      ],
      "execution_count": 4,
      "outputs": []
    },
    {
      "cell_type": "markdown",
      "metadata": {
        "id": "ZSI1yOYzpplp",
        "colab_type": "text"
      },
      "source": [
        "**fit()**에서 따로 검증데이터를 지정하지 않고, **validation_split**을 설정하면, 지정된 비율만큼의 검증데이터를 훈련데이터의 끝에서 뽑아낸다.\n",
        "\n",
        "[참고](https://keras.io/getting_started/faq/#in-fit-how-is-the-validation-split-computed)에 따르면, 검증데이터를 제외하고 훈련데이터를 섞게되므로(shuffle) 매 에포크마다 같은 검증데이터를 사용하게 된다.\n",
        "\n",
        "마지막으로 validation_split을 사용하기 위해서는 입력 데이터는 numpy 배열이어야 한다."
      ]
    },
    {
      "cell_type": "code",
      "metadata": {
        "id": "4yFGzS3JpJZQ",
        "colab_type": "code",
        "colab": {
          "base_uri": "https://localhost:8080/",
          "height": 595
        },
        "outputId": "17a9fa7f-97cf-4507-c581-d1ce5b4fd4e9"
      },
      "source": [
        "model.fit(x_train, y_train, batch_size=batch_size, epochs = epochs, validation_split=0.1)"
      ],
      "execution_count": 5,
      "outputs": [
        {
          "output_type": "stream",
          "text": [
            "Epoch 1/15\n",
            "422/422 [==============================] - 4s 10ms/step - loss: 0.3778 - accuracy: 0.8850 - val_loss: 0.0907 - val_accuracy: 0.9748\n",
            "Epoch 2/15\n",
            "422/422 [==============================] - 4s 8ms/step - loss: 0.1154 - accuracy: 0.9652 - val_loss: 0.0592 - val_accuracy: 0.9833\n",
            "Epoch 3/15\n",
            "422/422 [==============================] - 3s 8ms/step - loss: 0.0880 - accuracy: 0.9735 - val_loss: 0.0475 - val_accuracy: 0.9877\n",
            "Epoch 4/15\n",
            "422/422 [==============================] - 3s 8ms/step - loss: 0.0728 - accuracy: 0.9781 - val_loss: 0.0415 - val_accuracy: 0.9905\n",
            "Epoch 5/15\n",
            "422/422 [==============================] - 3s 8ms/step - loss: 0.0620 - accuracy: 0.9811 - val_loss: 0.0385 - val_accuracy: 0.9908\n",
            "Epoch 6/15\n",
            "422/422 [==============================] - 3s 8ms/step - loss: 0.0561 - accuracy: 0.9827 - val_loss: 0.0356 - val_accuracy: 0.9905\n",
            "Epoch 7/15\n",
            "422/422 [==============================] - 3s 8ms/step - loss: 0.0508 - accuracy: 0.9844 - val_loss: 0.0333 - val_accuracy: 0.9903\n",
            "Epoch 8/15\n",
            "422/422 [==============================] - 3s 8ms/step - loss: 0.0475 - accuracy: 0.9852 - val_loss: 0.0333 - val_accuracy: 0.9915\n",
            "Epoch 9/15\n",
            "422/422 [==============================] - 3s 8ms/step - loss: 0.0420 - accuracy: 0.9864 - val_loss: 0.0323 - val_accuracy: 0.9910\n",
            "Epoch 10/15\n",
            "422/422 [==============================] - 3s 8ms/step - loss: 0.0412 - accuracy: 0.9870 - val_loss: 0.0363 - val_accuracy: 0.9903\n",
            "Epoch 11/15\n",
            "422/422 [==============================] - 3s 8ms/step - loss: 0.0408 - accuracy: 0.9870 - val_loss: 0.0328 - val_accuracy: 0.9903\n",
            "Epoch 12/15\n",
            "422/422 [==============================] - 3s 8ms/step - loss: 0.0379 - accuracy: 0.9873 - val_loss: 0.0291 - val_accuracy: 0.9925\n",
            "Epoch 13/15\n",
            "422/422 [==============================] - 3s 8ms/step - loss: 0.0366 - accuracy: 0.9881 - val_loss: 0.0285 - val_accuracy: 0.9922\n",
            "Epoch 14/15\n",
            "422/422 [==============================] - 3s 8ms/step - loss: 0.0337 - accuracy: 0.9890 - val_loss: 0.0288 - val_accuracy: 0.9928\n",
            "Epoch 15/15\n",
            "422/422 [==============================] - 3s 8ms/step - loss: 0.0331 - accuracy: 0.9891 - val_loss: 0.0274 - val_accuracy: 0.9927\n"
          ],
          "name": "stdout"
        },
        {
          "output_type": "execute_result",
          "data": {
            "text/plain": [
              "<tensorflow.python.keras.callbacks.History at 0x7f9b305715c0>"
            ]
          },
          "metadata": {
            "tags": []
          },
          "execution_count": 5
        }
      ]
    },
    {
      "cell_type": "markdown",
      "metadata": {
        "id": "zvj_qsYWrkZA",
        "colab_type": "text"
      },
      "source": [
        "## 모델 평가\n",
        "---\n",
        "[evaluate()](https://keras.io/api/models/model_training_apis/#evaluate-method)에서 verbose 플래그를 통해 프로그레스바의 출력여부를 결정할 수 있다.\n",
        "\n",
        "리턴값은 metrics이 지정되지 않은 경우는 손실값(loss)만 있고, 지정된 경우는 손실값, 메트릭 값...이 리스트로 반환된다. 따라서 여기에서 **score[0]**은 테스트 데이터의 *loss*이고, **score[1]**은 테스트 데이터의 *accuracy*다."
      ]
    },
    {
      "cell_type": "code",
      "metadata": {
        "id": "44ygud_duo8L",
        "colab_type": "code",
        "colab": {
          "base_uri": "https://localhost:8080/",
          "height": 53
        },
        "outputId": "f29ff362-cc7d-4314-ddad-aabee81a273e"
      },
      "source": [
        "score = model.evaluate(x_test, y_test, verbose = 0)\n",
        "print(\"Test loss: \", score[0])\n",
        "print(\"Test accuracy: \", score[1])"
      ],
      "execution_count": 6,
      "outputs": [
        {
          "output_type": "stream",
          "text": [
            "Test loss:  0.02356906048953533\n",
            "Test accuracy:  0.9919999837875366\n"
          ],
          "name": "stdout"
        }
      ]
    },
    {
      "cell_type": "code",
      "metadata": {
        "id": "-GBrsSKhv58_",
        "colab_type": "code",
        "colab": {}
      },
      "source": [
        ""
      ],
      "execution_count": 6,
      "outputs": []
    }
  ]
}